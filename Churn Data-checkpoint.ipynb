{
 "cells": [
  {
   "cell_type": "code",
   "execution_count": 4,
   "id": "a986d52e-c483-4e2f-a493-082f8eac4e62",
   "metadata": {},
   "outputs": [],
   "source": [
    "import pandas as pd\n",
    "import matplotlib as plt\n",
    "import numpy as np\n",
    "from sklearn.tree import DecisionTreeClassifier\n",
    "from sklearn.linear_model import LogisticRegressionCV\n",
    "from sklearn.ensemble import RandomForestClassifier\n",
    "\n"
   ]
  },
  {
   "cell_type": "code",
   "execution_count": 11,
   "id": "30f7a702-21b8-48fb-aa29-ac293883988a",
   "metadata": {},
   "outputs": [
    {
     "name": "stdout",
     "output_type": "stream",
     "text": [
      "        AccountAge  MonthlyCharges  TotalCharges SubscriptionType  \\\n",
      "0               20       11.055215    221.104302          Premium   \n",
      "1               57        5.175208    294.986882            Basic   \n",
      "2               73       12.106657    883.785952            Basic   \n",
      "3               32        7.263743    232.439774            Basic   \n",
      "4               57       16.953078    966.325422          Premium   \n",
      "...            ...             ...           ...              ...   \n",
      "243782          77        9.639902    742.272460            Basic   \n",
      "243783         117       13.049257   1526.763053          Premium   \n",
      "243784         113       14.514569   1640.146267          Premium   \n",
      "243785           7       18.140555    126.983887          Premium   \n",
      "243786          90       11.593774   1043.439704          Premium   \n",
      "\n",
      "           PaymentMethod PaperlessBilling ContentType MultiDeviceAccess  \\\n",
      "0           Mailed check               No        Both                No   \n",
      "1            Credit card              Yes      Movies                No   \n",
      "2           Mailed check              Yes      Movies                No   \n",
      "3       Electronic check               No    TV Shows                No   \n",
      "4       Electronic check              Yes    TV Shows                No   \n",
      "...                  ...              ...         ...               ...   \n",
      "243782      Mailed check               No      Movies                No   \n",
      "243783       Credit card               No    TV Shows               Yes   \n",
      "243784       Credit card              Yes    TV Shows                No   \n",
      "243785     Bank transfer              Yes    TV Shows                No   \n",
      "243786      Mailed check               No        Both                No   \n",
      "\n",
      "       DeviceRegistered  ViewingHoursPerWeek  ...  ContentDownloadsPerMonth  \\\n",
      "0                Mobile            36.758104  ...                        10   \n",
      "1                Tablet            32.450568  ...                        18   \n",
      "2              Computer             7.395160  ...                        23   \n",
      "3                Tablet            27.960389  ...                        30   \n",
      "4                    TV            20.083397  ...                        20   \n",
      "...                 ...                  ...  ...                       ...   \n",
      "243782         Computer            13.502729  ...                        47   \n",
      "243783               TV            24.963291  ...                        35   \n",
      "243784               TV            10.628728  ...                        44   \n",
      "243785               TV            30.466782  ...                        36   \n",
      "243786               TV            24.972537  ...                        11   \n",
      "\n",
      "        GenrePreference UserRating  SupportTicketsPerMonth  Gender  \\\n",
      "0                Sci-Fi   2.176498                       4    Male   \n",
      "1                Action   3.478632                       8    Male   \n",
      "2               Fantasy   4.238824                       6    Male   \n",
      "3                 Drama   4.276013                       2    Male   \n",
      "4                Comedy   3.616170                       4  Female   \n",
      "...                 ...        ...                     ...     ...   \n",
      "243782           Sci-Fi   3.697451                       1    Male   \n",
      "243783           Comedy   1.449742                       4    Male   \n",
      "243784           Action   4.012217                       6    Male   \n",
      "243785          Fantasy   2.135789                       7  Female   \n",
      "243786           Action   1.428896                       3  Female   \n",
      "\n",
      "       WatchlistSize  ParentalControl SubtitlesEnabled  CustomerID Churn  \n",
      "0                  3               No               No  CB6SXPNVZA     0  \n",
      "1                 23               No              Yes  S7R2G87O09     0  \n",
      "2                  1              Yes              Yes  EASDC20BDT     0  \n",
      "3                 24              Yes              Yes  NPF69NT69N     0  \n",
      "4                  0               No               No  4LGYPK7VOL     0  \n",
      "...              ...              ...              ...         ...   ...  \n",
      "243782             8              Yes               No  FBZ38J108Z     0  \n",
      "243783            20               No               No  W4AO1Y6NAI     0  \n",
      "243784            13              Yes              Yes  0H3SWWI7IU     0  \n",
      "243785             5               No              Yes  63SJ44RT4A     0  \n",
      "243786             1              Yes               No  A6IN701VRY     0  \n",
      "\n",
      "[243787 rows x 21 columns]\n"
     ]
    }
   ],
   "source": [
    "#read in data set  \"train\"\n",
    "\n",
    "df2 = pd.read_csv('train.csv')\n",
    "print(df2)"
   ]
  },
  {
   "cell_type": "code",
   "execution_count": null,
   "id": "03a24f1f-f797-4ae5-8910-0b8e08383a66",
   "metadata": {},
   "outputs": [],
   "source": []
  },
  {
   "cell_type": "code",
   "execution_count": null,
   "id": "ac709982-e1ff-45d5-8f43-39e1e3c1be92",
   "metadata": {},
   "outputs": [],
   "source": []
  }
 ],
 "metadata": {
  "kernelspec": {
   "display_name": "Python 3 (ipykernel)",
   "language": "python",
   "name": "python3"
  },
  "language_info": {
   "codemirror_mode": {
    "name": "ipython",
    "version": 3
   },
   "file_extension": ".py",
   "mimetype": "text/x-python",
   "name": "python",
   "nbconvert_exporter": "python",
   "pygments_lexer": "ipython3",
   "version": "3.12.3"
  }
 },
 "nbformat": 4,
 "nbformat_minor": 5
}
